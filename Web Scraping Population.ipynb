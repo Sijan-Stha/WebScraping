{
 "cells": [
  {
   "cell_type": "code",
   "execution_count": 1,
   "id": "8fae9fe4",
   "metadata": {},
   "outputs": [],
   "source": [
    "url = \"https://www.worldometers.info/world-population/population-by-region/\""
   ]
  },
  {
   "cell_type": "code",
   "execution_count": 2,
   "id": "45a468bc",
   "metadata": {},
   "outputs": [],
   "source": [
    "import requests"
   ]
  },
  {
   "cell_type": "code",
   "execution_count": 3,
   "id": "15048416",
   "metadata": {},
   "outputs": [],
   "source": [
    "page_content = requests.get(url).text"
   ]
  },
  {
   "cell_type": "code",
   "execution_count": 4,
   "id": "53476fdf",
   "metadata": {},
   "outputs": [
    {
     "data": {
      "text/plain": [
       "'\\n\\n<!DOCTYPE html><!--[if IE 8]> <html lang=\"en\" class=\"ie8\"> <![endif]--><!--[if IE 9]> <html lang=\"en\" class=\"ie9\"> <![endif]--><!--[if !IE]><!--> <html lang=\"en\"> <!--<![endif]--> <head> <meta charset=\"utf-8\"> <meta http-equiv=\"X-UA-Compatible\" content=\"IE=edge\"> <meta name=\"viewport\" content=\"width=device-width, initial-scale=1\"> <title>Population by Regions in the World (2023) - Worldometer</title><meta name=\"description\" content=\"List of regions (continents) in the world ranked by population, from the most populated. Growth rate, median age, fertility rate, area, density, population density, urbanization, urban population, share of world population.\"><!-- Favicon --><link rel=\"shortcut icon\" href=\"/favicon/favicon.ico\" type=\"image/x-icon\"><link rel=\"apple-touch-icon\" sizes=\"57x57\" href=\"/favicon/apple-icon-57x57.png\"><link rel=\"apple-touch-icon\" sizes=\"60x60\" href=\"/favicon/apple-icon-60x60.png\"><link rel=\"apple-touch-icon\" sizes=\"72x72\" href=\"/favicon/apple-icon-72x72.png\"><link rel=\"apple-touch-icon\" sizes=\"76x76\" href=\"/favicon/apple-icon-76x76.png\"><link rel=\"apple-touch-icon\" sizes=\"114x114\" href=\"/favicon/apple-icon-114x114.png\"><link rel=\"apple-touch-icon\" sizes=\"120x120\" href=\"/favicon/apple-icon-120x120.png\"><link rel=\"apple-touch-icon\" sizes=\"144x144\" href=\"/favicon/apple-icon-144x144.png\"><link rel=\"apple-touch-icon\" sizes=\"152x152\" href=\"/favicon/apple-icon-152x152.png\"><link rel=\"apple-touch-icon\" sizes=\"180x180\" href=\"/favicon/apple-icon-180x180.png\"><link rel=\"icon\" type=\"image/png\" sizes=\"192x192\" href=\"/favicon/android-icon-192x192.png\"><link rel=\"icon\" type=\"image/png\" sizes=\"32x32\" href=\"/favicon/favicon-32x32.png\"><link rel=\"icon\" type=\"image/png\" sizes=\"96x96\" href=\"/favicon/favicon-96x96.png\"><link rel=\"icon\" type=\"image/png\" sizes=\"16x16\" href=\"/favicon/favicon-16x16.png\"><link rel=\"manifest\" href=\"/favicon/manifest.json\"><meta name=\"msapplication-TileColor\" content=\"#ffffff\"><meta name=\"msapplication-TileImage\" content=\"/favicon/ms-icon-144x144.png\"><meta name=\"theme-color\" content=\"#ffffff\"><!-- og image --><meta property=\"og:image\" content=\"http://www.worldometers.info/img/worldometers-fb.jpg\" /> <!-- Bootstrap --> <link href=\"/css/bootstrap.min.css\" rel=\"stylesheet\"><link href=\"/wm16.css\" rel=\"stylesheet\"><!-- font awesome --><link rel=\"stylesheet\" href=\"https://maxcdn.bootstrapcdn.com/font-awesome/4.4.0/css/font-awesome.min.css\"> <!-- HTML5 shim and Respond.js for IE8 support of HTML5 elements and media queries --> <!--[if lt IE 9]> <script src=\"https://oss.maxcdn.com/html5shiv/3.7.2/html5shiv.min.js\"></script> <script src=\"https://oss.maxcdn.com/respond/1.4.2/respond.min.js\"></script> <![endif]--><!-- <script src=\"https://ajax.googleapis.com/ajax/libs/jquery/2.1.3/jquery.min.js\"></script>--> <script src=\"/js/jquery.min.js\"></script> <!-- Include all compiled plugins (below), or include individual files as needed --> <script src=\"/js/bootstrap.min.js\"></script> <!-- IE10 viewport hack for Surface/desktop Windows 8 bug --> <script src=\"/js/ie10-viewport-bug-workaround.js\"></script><!-- tables<link rel=\"stylesheet\" type=\"text/css\" href=\"https://cdn.datatables.net/s/bs-3.3.5/dt-1.10.10,fh-3.1.0,r-2.0.0/datatables.min.css\"/><script type=\"text/javascript\" src=\"https://cdn.datatables.net/s/bs-3.3.5/dt-1.10.10,fh-3.1.0,r-2.0.0/datatables.min.js\"></script><link rel=\"stylesheet\" type=\"text/css\" href=\"https://cdn.datatables.net/s/dt/dt-1.10.10,r-2.0.0/datatables.min.css\"/> <script type=\"text/javascript\" src=\"https://cdn.datatables.net/s/dt/dt-1.10.10,r-2.0.0/datatables.min.js\"></script> --><link rel=\"stylesheet\" type=\"text/css\" href=\"https://cdn.datatables.net/1.10.19/css/dataTables.bootstrap.min.css\"/><script type=\"text/javascript\" src=\"https://cdn.datatables.net/1.10.19/js/jquery.dataTables.min.js\"></script><script type=\"text/javascript\" src=\"https://cdn.datatables.net/1.10.19/js/dataTables.bootstrap.min.js\"></script><script type=\"text/javascript\" class=\"init\">$.extend( $.fn.dataTable.defaults, { responsive: true\\n} );\\t$(document).ready(function() { $(\\'#example2\\').dataTable( { \"scrollCollapse\": true,\\t\"sDom\": \\'<\"bottom\"flp><\"clear\">\\', \"paging\": false } );\\n} );</script><script type=\"text/javascript\" class=\"init\">$.extend( $.fn.dataTable.defaults, { responsive: true\\n} );\\t$(document).ready(function() { $(\\'#table3\\').dataTable( { \"scrollCollapse\": true, \"order\": [[ 1, \\'desc\\' ]],\\t\"sDom\": \\'<\"bottom\"flp><\"clear\">\\', \"paging\": false } );\\n} );</script><script type=\"text/javascript\" class=\"init\">$.extend( $.fn.dataTable.defaults, { responsive: true\\n} );\\t$(document).ready(function() { $(\\'#example\\').dataTable( { \"scrollCollapse\": true,\\t\"searching\": false,\\t\"sDom\": \\'<\"top\">rt<\"bottom\"flp><\"clear\">\\', \"paging\": false } );\\n} );</script><script type=\"text/javascript\" class=\"init\">$(document).ready(function() {\\t$(\\'#popbycountry\\').dataTable();\\n} );</script><!-- FREESTAR BEGIN --><script data-cfasync=\"false\" type=\"text/javascript\"> var freestar = freestar || {}; freestar.hitTime = Date.now(); freestar.queue = freestar.queue || []; freestar.config = freestar.config || {}; freestar.debug = window.location.search.indexOf(\\'fsdebug\\') === -1 ? false : true; freestar.config.enabled_slots = []; !function(a,b){var c=b.getElementsByTagName(\"script\")[0],d=b.createElement(\"script\"),e=\"https://a.pub.network/worldometers-info\";e+=freestar.debug?\"/qa/pubfig.min.js\":\"/pubfig.min.js\",d.async=!0,d.src=e,c.parentNode.insertBefore(d,c)}(window,document); freestar.initCallback = function () { (freestar.config.enabled_slots.length === 0) ? freestar.initCallbackCalled = false : freestar.newAdSlots(freestar.config.enabled_slots) }</script><!-- FREESTAR END --></head><body><!-- Quantcast Choice. Consent Manager Tag v2.0 (for TCF 2.0) --><!--<script type=\"text/javascript\" async=true>(function() { var host = \\'worldometers.info\\'; var element = document.createElement(\\'script\\'); var firstScript = document.getElementsByTagName(\\'script\\')[0]; var url = \\'https://quantcast.mgr.consensu.org\\' .concat(\\'/choice/\\', \\'Pd9JxUkvV0m7q\\', \\'/\\', host, \\'/choice.js\\'); var uspTries = 0; var uspTriesLimit = 3; element.async = true; element.type = \\'text/javascript\\'; element.src = url; firstScript.parentNode.insertBefore(element, firstScript); function makeStub() { var TCF_LOCATOR_NAME = \\'__tcfapiLocator\\'; var queue = []; var win = window; var cmpFrame; function addFrame() { var doc = win.document; var otherCMP = !!(win.frames[TCF_LOCATOR_NAME]); if (!otherCMP) { if (doc.body) { var iframe = doc.createElement(\\'iframe\\'); iframe.style.cssText = \\'display:none\\'; iframe.name = TCF_LOCATOR_NAME; doc.body.appendChild(iframe); } else { setTimeout(addFrame, 5); } } return !otherCMP; } function tcfAPIHandler() { var gdprApplies; var args = arguments; if (!args.length) { return queue; } else if (args[0] === \\'setGdprApplies\\') { if ( args.length > 3 && args[2] === 2 && typeof args[3] === \\'boolean\\' ) { gdprApplies = args[3]; if (typeof args[2] === \\'function\\') { args[2](\\'set\\', true); } } } else if (args[0] === \\'ping\\') { var retr = { gdprApplies: gdprApplies, cmpLoaded: false, cmpStatus: \\'stub\\' }; if (typeof args[2] === \\'function\\') { args[2](retr); } } else { queue.push(args); } } function postMessageEventHandler(event) { var msgIsString = typeof event.data === \\'string\\'; var json = {}; try { if (msgIsString) { json = JSON.parse(event.data); } else { json = event.data; } } catch (ignore) {} var payload = json.__tcfapiCall; if (payload) { window.__tcfapi( payload.command, payload.version, function(retValue, success) { var returnMsg = { __tcfapiReturn: { returnValue: retValue, success: success, callId: payload.callId } }; if (msgIsString) { returnMsg = JSON.stringify(returnMsg); } event.source.postMessage(returnMsg, \\'*\\'); }, payload.parameter ); } } while (win) { try { if (win.frames[TCF_LOCATOR_NAME]) { cmpFrame = win; break; } } catch (ignore) {} if (win === window.top) { break; } win = win.parent; } if (!cmpFrame) { addFrame(); win.__tcfapi = tcfAPIHandler; win.addEventListener(\\'message\\', postMessageEventHandler, false); } }; makeStub(); var uspStubFunction = function() { var arg = arguments; if (typeof window.__uspapi !== uspStubFunction) { setTimeout(function() { if (typeof window.__uspapi !== \\'undefined\\') { window.__uspapi.apply(window.__uspapi, arg); } }, 500); } }; var checkIfUspIsReady = function() { uspTries++; if (window.__uspapi === uspStubFunction && uspTries < uspTriesLimit) { console.warn(\\'USP is not accessible\\'); } else { clearInterval(uspInterval); } }; if (typeof window.__uspapi === \\'undefined\\') { window.__uspapi = uspStubFunction; var uspInterval = setInterval(checkIfUspIsReady, 6000); }\\n})();</script>--><!-- End Quantcast Choice. Consent Manager Tag v2.0 (for TCF 2.0) --><script> (function(i,s,o,g,r,a,m){i[\\'GoogleAnalyticsObject\\']=r;i[r]=i[r]||function(){ (i[r].q=i[r].q||[]).push(arguments)},i[r].l=1*new Date();a=s.createElement(o), m=s.getElementsByTagName(o)[0];a.async=1;a.src=g;m.parentNode.insertBefore(a,m) })(window,document,\\'script\\',\\'//www.google-analytics.com/analytics.js\\',\\'ga\\'); ga(\\'create\\', \\'UA-1438574-2\\', \\'auto\\'); ga(\\'send\\', \\'pageview\\');</script><!-- GA wm old (info) --><!-- Global site tag (gtag.js) - Google Analytics --><script async src=\"https://www.googletagmanager.com/gtag/js?id=UA-1438574-30\"></script><script> window.dataLayer = window.dataLayer || []; function gtag(){dataLayer.push(arguments);} gtag(\\'js\\', new Date()); gtag(\\'config\\', \\'UA-1438574-30\\');</script><!-- GDPR consent --><link rel=\"stylesheet\" type=\"text/css\" href=\"//cdnjs.cloudflare.com/ajax/libs/cookieconsent2/3.1.0/cookieconsent.min.css\" /><script src=\"//cdnjs.cloudflare.com/ajax/libs/cookieconsent2/3.1.0/cookieconsent.min.js\"></script><script>window.addEventListener(\"load\", function(){\\nwindow.cookieconsent.initialise({ \"palette\": { \"popup\": { \"background\": \"#efefef\", \"text\": \"#404040\" }, \"button\": { \"background\": \"#8ec760\", \"text\": \"#ffffff\" } }, \"theme\": \"classic\", \"content\": { \"href\": \"http://www.worldometers.info/policy/\" }\\n})});</script><style type=\"text/css\"> .style1 { color: #666666 }</style><div class=\"navbar navbar-default\"> <div class=\"container\"> <div class=\"navbar-header\"> <div class=\"logo\"><a href=\"/\" class=\"navbar-brand\"><img src=\"/img/worldometers-logo.gif\" border=\"0\" title=\"Worldometer\"></a></div> <button class=\"navbar-toggle\" type=\"button\" data-toggle=\"collapse\" data-target=\"#navbar-main\"> <span class=\"icon-bar\"></span> <span class=\"icon-bar\"></span> <span class=\"icon-bar\"></span> </button> </div> <div class=\"navbar-collapse collapse\" id=\"navbar-main\"> <ul class=\"nav navbar-nav\"> <li><a href=\"/coronavirus/\">Coronavirus</a></li> <li><a href=\"/population/\">Population</a></li> </ul> </div> </div></div><!-- MAIN --><div class=\"container\"><!-- TOP AD --><div class=\"row\"><div style=\"text-align:left; margin-bottom:10px\"><script async src=\"https://pagead2.googlesyndication.com/pagead/js/adsbygoogle.js\"></script><!-- wm_top970 --><ins class=\"adsbygoogle\" style=\"display:inline-block;width:970px;height:90px\" data-ad-client=\"ca-pub-3701697624350410\" data-ad-slot=\"3287840995\"></ins><script> (adsbygoogle = window.adsbygoogle || []).push({});</script></div></div><!-- TOP AD --><!-- MAIN --><!-- CENTER --><div class=\"row\"><div class=\"col-md-12\"><!-- *** CONTENT A *** --><div class=\"content-inner\"><ul class=\"breadcrumb\"> <li><a href=\"/\">W</a></li><li><a href=\"/population/\">Population</a></li> <li><a href=\"/population/world/\">World</a></li> <li class=\"active\">Population by Region</li></ul><div class=\"row spacer-bottom\"><div class=\"col-md-12\"> <h1>Regions in the world by population (2023)</h1><p>Click on each region to view current estimates (live population clock), historical data, list of subregions and countries within the region, and projected figures. Below you will also find what the population for each region was in 1950 and what it will be (as estimated) in 2050. </p></div></div><div class=\"table-responsive\"> <table class=\\'table table-hover table-condensed\\'> <thead> <tr> <th>#</th> <th>Region</th> <th style=\"text-align:center\">Population<br> (2020)</th> <th style=\"text-align:center\">Yearly<br> Change</th> <th style=\"text-align:center\">Net<br> Change</th> <th style=\"text-align:center\">Density<br> (P/Km²)</th> <th style=\"text-align:center\">Area<br> (Km²)</th> <th style=\"text-align:center\">Migrants<br> (net)</th> <th style=\"text-align:center\">Fert.<br> Rate</th> <th style=\"text-align:center\">Med.<br> Age</th> <th style=\"text-align:center\">Urban<br> Pop %</th> <th style=\"text-align:center\">World<br> Share</th> </tr> </thead> <tbody> <tr> <td>1</td> <td style=\"font-weight: bold; font-size:15px\"><a href=\"/population/asia/\">Asia</a></td> <td style=\"font-weight: bold; text-align:right\">4,641,054,775</td> <td style=\"text-align:right\">0.86 %</td> <td style=\"text-align:right\">39,683,577</td><td style=\"text-align:right\">150</td> <td style=\"text-align:right\">31,033,131</td> <td style=\"text-align:right\">-1,729,112</td> <td style=\"text-align:right\">2.151942002</td> <td style=\"text-align:right\">32</td> <td style=\"text-align:right\">0 %</td> <td style=\"text-align:right\">59.5 %</td> </tr> <tr> <td>2</td> <td style=\"font-weight: bold; font-size:15px\"><a href=\"/population/africa/\">Africa</a></td> <td style=\"font-weight: bold; text-align:right\">1,340,598,147</td> <td style=\"text-align:right\">2.49 %</td> <td style=\"text-align:right\">32,533,952</td><td style=\"text-align:right\">45</td> <td style=\"text-align:right\">29,648,481</td> <td style=\"text-align:right\">-463,024</td> <td style=\"text-align:right\">4.438374895</td> <td style=\"text-align:right\">20</td> <td style=\"text-align:right\">0 %</td> <td style=\"text-align:right\">17.2 %</td> </tr> <tr> <td>3</td> <td style=\"font-weight: bold; font-size:15px\"><a href=\"/population/europe/\">Europe</a></td> <td style=\"font-weight: bold; text-align:right\">747,636,026</td> <td style=\"text-align:right\">0.06 %</td> <td style=\"text-align:right\">453,275</td><td style=\"text-align:right\">34</td> <td style=\"text-align:right\">22,134,900</td> <td style=\"text-align:right\">1,361,011</td> <td style=\"text-align:right\">1.609646027</td> <td style=\"text-align:right\">43</td> <td style=\"text-align:right\">0 %</td> <td style=\"text-align:right\">9.6 %</td> </tr> <tr> <td>4</td> <td style=\"font-weight: bold; font-size:15px\"><a href=\"/population/latin-america-and-the-caribbean/\">Latin America and the Caribbean</a></td> <td style=\"font-weight: bold; text-align:right\">653,962,331</td> <td style=\"text-align:right\">0.9 %</td> <td style=\"text-align:right\">5,841,374</td><td style=\"text-align:right\">32</td> <td style=\"text-align:right\">20,139,378</td> <td style=\"text-align:right\">-521,499</td> <td style=\"text-align:right\">2.044660431</td> <td style=\"text-align:right\">31</td> <td style=\"text-align:right\">0 %</td> <td style=\"text-align:right\">8.4 %</td> </tr> <tr> <td>5</td> <td style=\"font-weight: bold; font-size:15px\"><a href=\"/population/northern-america/\">Northern America</a></td> <td style=\"font-weight: bold; text-align:right\">368,869,647</td> <td style=\"text-align:right\">0.62 %</td> <td style=\"text-align:right\">2,268,683</td><td style=\"text-align:right\">20</td> <td style=\"text-align:right\">18,651,660</td> <td style=\"text-align:right\">1,196,400</td> <td style=\"text-align:right\">1.75268862</td> <td style=\"text-align:right\">39</td> <td style=\"text-align:right\">0 %</td> <td style=\"text-align:right\">4.7 %</td> </tr> <tr> <td>6</td> <td style=\"font-weight: bold; font-size:15px\"><a href=\"/population/oceania/\">Oceania</a></td> <td style=\"font-weight: bold; text-align:right\">42,677,813</td> <td style=\"text-align:right\">1.31 %</td> <td style=\"text-align:right\">549,778</td><td style=\"text-align:right\">5</td> <td style=\"text-align:right\">8,486,460</td> <td style=\"text-align:right\">156,226</td> <td style=\"text-align:right\">2.357006916</td> <td style=\"text-align:right\">33</td> <td style=\"text-align:right\">0 %</td> <td style=\"text-align:right\">0.5 %</td> </tr> </tbody> </table></div> <!-- Tag ID: worldometers_728x90_970x90_BTF --><div align=\"center\" id=\"worldometers_728x90_970x90_BTF\"><script data-cfasync=\"false\" type=\"text/javascript\"> freestar.config.enabled_slots.push({ placementName: \"worldometers_728x90_970x90_BTF\", slotId: \"worldometers_728x90_970x90_BTF\" });</script></div><div class=\"container\"><div class=\"col-md-6\"><h2>World Population by Region in 1950</h2><div class=\"table-responsive\"> <table class=\\'table table-hover table-condensed\\'><thead> <tr> <th width=\"17\">#</th><th width=\"48\">Region</th><th width=\"81\" style=\"text-align:center\">Population<br>(1950)</th><th width=\"58\" style=\"text-align:center\">World<br>Share</th> </tr></thead><tbody> <tr> <td>1</td> <td style=\"font-weight: bold; font-size:15px\"><a href=\"/population/asia/\">Asia</a></td> <td style=\"font-weight: bold; text-align:right\">1,404,909,021</td> <td style=\"text-align:right\">55.4 %</td> </tr> <tr> <td>2</td> <td style=\"font-weight: bold; font-size:15px\"><a href=\"/population/europe/\">Europe</a></td> <td style=\"font-weight: bold; text-align:right\">549,328,883</td> <td style=\"text-align:right\">21.7 %</td> </tr> <tr> <td>3</td> <td style=\"font-weight: bold; font-size:15px\"><a href=\"/population/africa/\">Africa</a></td> <td style=\"font-weight: bold; text-align:right\">227,794,136</td> <td style=\"text-align:right\">9 %</td> </tr> <tr> <td>4</td> <td style=\"font-weight: bold; font-size:15px\"><a href=\"/population/northern-america/\">Northern America</a></td> <td style=\"font-weight: bold; text-align:right\">172,602,624</td> <td style=\"text-align:right\">6.8 %</td> </tr> <tr> <td>5</td> <td style=\"font-weight: bold; font-size:15px\"><a href=\"/population/latin-america-and-the-caribbean/\">Latin America and the Caribbean</a></td> <td style=\"font-weight: bold; text-align:right\">168,820,620</td> <td style=\"text-align:right\">6.7 %</td> </tr> <tr> <td>6</td> <td style=\"font-weight: bold; font-size:15px\"><a href=\"/population/oceania/\">Oceania</a></td> <td style=\"font-weight: bold; text-align:right\">12,975,865</td> <td style=\"text-align:right\">0.5 %</td> </tr> </tbody> </table></div> </div><div class=\"col-md-6\"><h2>World Population by Region in 2050</h2><div class=\"table-responsive\"> <table class=\\'table table-hover table-condensed\\'><thead> <tr> <th width=\"17\">#</th><th width=\"48\">Region</th><th width=\"76\" style=\"text-align:center\">Population<br>(2050)</th><th width=\"55\" style=\"text-align:center\">World<br>Share</th> </tr></thead><tbody> <tr> <td>1</td> <td style=\"font-weight: bold; font-size:15px\"><a href=\"/population/asia/\">Asia</a></td> <td style=\"font-weight: bold; text-align:right\">5,290,263,118</td> <td style=\"text-align:right\">54.3 %</td> </tr> <tr> <td>2</td> <td style=\"font-weight: bold; font-size:15px\"><a href=\"/population/africa/\">Africa</a></td> <td style=\"font-weight: bold; text-align:right\">2,489,275,458</td> <td style=\"text-align:right\">25.6 %</td> </tr> <tr> <td>3</td> <td style=\"font-weight: bold; font-size:15px\"><a href=\"/population/latin-america-and-the-caribbean/\">Latin America and the Caribbean</a></td> <td style=\"font-weight: bold; text-align:right\">762,432,366</td> <td style=\"text-align:right\">7.8 %</td> </tr> <tr> <td>4</td> <td style=\"font-weight: bold; font-size:15px\"><a href=\"/population/europe/\">Europe</a></td> <td style=\"font-weight: bold; text-align:right\">710,486,313</td> <td style=\"text-align:right\">7.3 %</td> </tr> <tr> <td>5</td> <td style=\"font-weight: bold; font-size:15px\"><a href=\"/population/northern-america/\">Northern America</a></td> <td style=\"font-weight: bold; text-align:right\">425,200,368</td> <td style=\"text-align:right\">4.4 %</td> </tr> <tr> <td>6</td> <td style=\"font-weight: bold; font-size:15px\"><a href=\"/population/oceania/\">Oceania</a></td> <td style=\"font-weight: bold; text-align:right\">57,376,367</td> <td style=\"text-align:right\">0.6 %</td> </tr> </tbody> </table></div> </div></div></div><!-- *** CONTENT A *** --></div></div><script async src=\"https://pagead2.googlesyndication.com/pagead/js/adsbygoogle.js\"></script><!-- wm_bottom_1_square_resp --><ins class=\"adsbygoogle\" style=\"display:block\" data-ad-client=\"ca-pub-3701697624350410\" data-ad-slot=\"6995709761\" data-ad-format=\"auto\" data-full-width-responsive=\"true\"></ins><script> (adsbygoogle = window.adsbygoogle || []).push({});</script><div style=\"margin-top:40px\"></div><script async src=\"https://pagead2.googlesyndication.com/pagead/js/adsbygoogle.js\"></script><!-- wm_bottom2_horiz_resp --><ins class=\"adsbygoogle\" style=\"display:block\" data-ad-client=\"ca-pub-3701697624350410\" data-ad-slot=\"1743383089\" data-ad-format=\"auto\" data-full-width-responsive=\"true\"></ins><script> (adsbygoogle = window.adsbygoogle || []).push({});</script></div> <!--=== Closed TOP Content Container ===--> <footer><div class=\"footerlinks\"><div style=\"margin-bottom:20px\"><a href=\"/\"><img src=\"/img/worldometers-logo-footer.png\" border=\"0\" class=\"img-footer\"></a></div><a href=\"/about/\">about</a> | <a href=\"/faq/\">faq</a> | <a href=\"/languages/\">languages</a> | <a href=\"/contact/\">contact</a></div><ul class=\"list-inline text-center socialbuttons\"><li><a href=\"/newsletter-subscribe/\" data-toggle=\"tooltip\" data-placement=\"bottom\" title=\"Newsletter\"><i class=\"fa fa-bullhorn fa-round\"></i></a></li> <li><a href=\"https://twitter.com/Worldometers\"><i class=\"fa fa-twitter fa-round\"></i></a></li> <li><a href=\"https://www.facebook.com/Worldometers.info\"><i class=\"fa fa-facebook fa-round\"></i></a></li></ul> <div class=\"copy\">&copy; Copyright Worldometers.info - All rights reserved - <a href=\"/disclaimer/\">Disclaimer & Privacy Policy</a></div></footer><!-- ADDTHIS--><script type=\"text/javascript\" src=\"//s7.addthis.com/js/300/addthis_widget.js#pubid=ra-54615fa823b2af68\" async=\"async\"></script> <!-- PAGEFAIR --><script type=\"text/javascript\"> (function() { function async_load(script_url){ var protocol = (\\'https:\\' == document.location.protocol ? \\'https://\\' : \\'http://\\'); var s = document.createElement(\\'script\\'); s.src = protocol + script_url; var x = document.getElementsByTagName(\\'script\\')[0]; x.parentNode.insertBefore(s, x); } bm_website_code = \\'7849CD9451D34931\\'; jQuery(document).ready(function(){async_load(\\'asset.pagefair.com/measure.min.js\\')}); jQuery(document).ready(function(){async_load(\\'asset.pagefair.net/ads.min.js\\')}); })();</script> <!-- PAGEFAIR --> <!-- Quantcast Tag --><script type=\"text/javascript\">var _qevents = _qevents || [];\\n(function() {\\nvar elem = document.createElement(\\'script\\');\\nelem.src = (document.location.protocol == \"https:\" ? \"https://secure\" : \"http://edge\") + \".quantserve.com/quant.js\";\\nelem.async = true;\\nelem.type = \"text/javascript\";\\nvar scpt = document.getElementsByTagName(\\'script\\')[0];\\nscpt.parentNode.insertBefore(elem, scpt);\\n})();\\n_qevents.push({\\nqacct:\"p-Pd9JxUkvV0m7q\"\\n});</script><noscript><div style=\"display:none;\"><img src=\"//pixel.quantserve.com/pixel/p-Pd9JxUkvV0m7q.gif\" border=\"0\" height=\"1\" width=\"1\" alt=\"Quantcast\"/></div></noscript><!-- End Quantcast tag --></body></html>'"
      ]
     },
     "execution_count": 4,
     "metadata": {},
     "output_type": "execute_result"
    }
   ],
   "source": [
    "page_content"
   ]
  },
  {
   "cell_type": "code",
   "execution_count": 5,
   "id": "e5277113",
   "metadata": {},
   "outputs": [],
   "source": [
    "from bs4 import BeautifulSoup"
   ]
  },
  {
   "cell_type": "code",
   "execution_count": 6,
   "id": "f3264af1",
   "metadata": {},
   "outputs": [],
   "source": [
    "beautiful_page_content = BeautifulSoup(page_content, \"html.parser\")"
   ]
  },
  {
   "cell_type": "code",
   "execution_count": 7,
   "id": "b4d53eca",
   "metadata": {},
   "outputs": [
    {
     "data": {
      "text/plain": [
       "\n",
       "<!DOCTYPE html>\n",
       "<!--[if IE 8]> <html lang=\"en\" class=\"ie8\"> <![endif]--><!--[if IE 9]> <html lang=\"en\" class=\"ie9\"> <![endif]--><!--[if !IE]><!--> <html lang=\"en\"> <!--<![endif]--> <head> <meta charset=\"utf-8\"/> <meta content=\"IE=edge\" http-equiv=\"X-UA-Compatible\"/> <meta content=\"width=device-width, initial-scale=1\" name=\"viewport\"/> <title>Population by Regions in the World (2023) - Worldometer</title><meta content=\"List of regions (continents) in the world ranked by population, from the most populated. Growth rate, median age, fertility rate, area, density, population density, urbanization, urban population, share of world population.\" name=\"description\"/><!-- Favicon --><link href=\"/favicon/favicon.ico\" rel=\"shortcut icon\" type=\"image/x-icon\"/><link href=\"/favicon/apple-icon-57x57.png\" rel=\"apple-touch-icon\" sizes=\"57x57\"/><link href=\"/favicon/apple-icon-60x60.png\" rel=\"apple-touch-icon\" sizes=\"60x60\"/><link href=\"/favicon/apple-icon-72x72.png\" rel=\"apple-touch-icon\" sizes=\"72x72\"/><link href=\"/favicon/apple-icon-76x76.png\" rel=\"apple-touch-icon\" sizes=\"76x76\"/><link href=\"/favicon/apple-icon-114x114.png\" rel=\"apple-touch-icon\" sizes=\"114x114\"/><link href=\"/favicon/apple-icon-120x120.png\" rel=\"apple-touch-icon\" sizes=\"120x120\"/><link href=\"/favicon/apple-icon-144x144.png\" rel=\"apple-touch-icon\" sizes=\"144x144\"/><link href=\"/favicon/apple-icon-152x152.png\" rel=\"apple-touch-icon\" sizes=\"152x152\"/><link href=\"/favicon/apple-icon-180x180.png\" rel=\"apple-touch-icon\" sizes=\"180x180\"/><link href=\"/favicon/android-icon-192x192.png\" rel=\"icon\" sizes=\"192x192\" type=\"image/png\"/><link href=\"/favicon/favicon-32x32.png\" rel=\"icon\" sizes=\"32x32\" type=\"image/png\"/><link href=\"/favicon/favicon-96x96.png\" rel=\"icon\" sizes=\"96x96\" type=\"image/png\"/><link href=\"/favicon/favicon-16x16.png\" rel=\"icon\" sizes=\"16x16\" type=\"image/png\"/><link href=\"/favicon/manifest.json\" rel=\"manifest\"/><meta content=\"#ffffff\" name=\"msapplication-TileColor\"/><meta content=\"/favicon/ms-icon-144x144.png\" name=\"msapplication-TileImage\"/><meta content=\"#ffffff\" name=\"theme-color\"/><!-- og image --><meta content=\"http://www.worldometers.info/img/worldometers-fb.jpg\" property=\"og:image\"> <!-- Bootstrap --> <link href=\"/css/bootstrap.min.css\" rel=\"stylesheet\"/><link href=\"/wm16.css\" rel=\"stylesheet\"/><!-- font awesome --><link href=\"https://maxcdn.bootstrapcdn.com/font-awesome/4.4.0/css/font-awesome.min.css\" rel=\"stylesheet\"/> <!-- HTML5 shim and Respond.js for IE8 support of HTML5 elements and media queries --> <!--[if lt IE 9]> <script src=\"https://oss.maxcdn.com/html5shiv/3.7.2/html5shiv.min.js\"></script> <script src=\"https://oss.maxcdn.com/respond/1.4.2/respond.min.js\"></script> <![endif]--><!-- <script src=\"https://ajax.googleapis.com/ajax/libs/jquery/2.1.3/jquery.min.js\"></script>--> <script src=\"/js/jquery.min.js\"></script> <!-- Include all compiled plugins (below), or include individual files as needed --> <script src=\"/js/bootstrap.min.js\"></script> <!-- IE10 viewport hack for Surface/desktop Windows 8 bug --> <script src=\"/js/ie10-viewport-bug-workaround.js\"></script><!-- tables<link rel=\"stylesheet\" type=\"text/css\" href=\"https://cdn.datatables.net/s/bs-3.3.5/dt-1.10.10,fh-3.1.0,r-2.0.0/datatables.min.css\"/><script type=\"text/javascript\" src=\"https://cdn.datatables.net/s/bs-3.3.5/dt-1.10.10,fh-3.1.0,r-2.0.0/datatables.min.js\"></script><link rel=\"stylesheet\" type=\"text/css\" href=\"https://cdn.datatables.net/s/dt/dt-1.10.10,r-2.0.0/datatables.min.css\"/> <script type=\"text/javascript\" src=\"https://cdn.datatables.net/s/dt/dt-1.10.10,r-2.0.0/datatables.min.js\"></script> --><link href=\"https://cdn.datatables.net/1.10.19/css/dataTables.bootstrap.min.css\" rel=\"stylesheet\" type=\"text/css\"><script src=\"https://cdn.datatables.net/1.10.19/js/jquery.dataTables.min.js\" type=\"text/javascript\"></script><script src=\"https://cdn.datatables.net/1.10.19/js/dataTables.bootstrap.min.js\" type=\"text/javascript\"></script><script class=\"init\" type=\"text/javascript\">$.extend( $.fn.dataTable.defaults, { responsive: true\n",
       "} );\t$(document).ready(function() { $('#example2').dataTable( { \"scrollCollapse\": true,\t\"sDom\": '<\"bottom\"flp><\"clear\">', \"paging\": false } );\n",
       "} );</script><script class=\"init\" type=\"text/javascript\">$.extend( $.fn.dataTable.defaults, { responsive: true\n",
       "} );\t$(document).ready(function() { $('#table3').dataTable( { \"scrollCollapse\": true, \"order\": [[ 1, 'desc' ]],\t\"sDom\": '<\"bottom\"flp><\"clear\">', \"paging\": false } );\n",
       "} );</script><script class=\"init\" type=\"text/javascript\">$.extend( $.fn.dataTable.defaults, { responsive: true\n",
       "} );\t$(document).ready(function() { $('#example').dataTable( { \"scrollCollapse\": true,\t\"searching\": false,\t\"sDom\": '<\"top\">rt<\"bottom\"flp><\"clear\">', \"paging\": false } );\n",
       "} );</script><script class=\"init\" type=\"text/javascript\">$(document).ready(function() {\t$('#popbycountry').dataTable();\n",
       "} );</script><!-- FREESTAR BEGIN --><script data-cfasync=\"false\" type=\"text/javascript\"> var freestar = freestar || {}; freestar.hitTime = Date.now(); freestar.queue = freestar.queue || []; freestar.config = freestar.config || {}; freestar.debug = window.location.search.indexOf('fsdebug') === -1 ? false : true; freestar.config.enabled_slots = []; !function(a,b){var c=b.getElementsByTagName(\"script\")[0],d=b.createElement(\"script\"),e=\"https://a.pub.network/worldometers-info\";e+=freestar.debug?\"/qa/pubfig.min.js\":\"/pubfig.min.js\",d.async=!0,d.src=e,c.parentNode.insertBefore(d,c)}(window,document); freestar.initCallback = function () { (freestar.config.enabled_slots.length === 0) ? freestar.initCallbackCalled = false : freestar.newAdSlots(freestar.config.enabled_slots) }</script><!-- FREESTAR END --></link></meta></head><body><!-- Quantcast Choice. Consent Manager Tag v2.0 (for TCF 2.0) --><!--<script type=\"text/javascript\" async=true>(function() { var host = 'worldometers.info'; var element = document.createElement('script'); var firstScript = document.getElementsByTagName('script')[0]; var url = 'https://quantcast.mgr.consensu.org' .concat('/choice/', 'Pd9JxUkvV0m7q', '/', host, '/choice.js'); var uspTries = 0; var uspTriesLimit = 3; element.async = true; element.type = 'text/javascript'; element.src = url; firstScript.parentNode.insertBefore(element, firstScript); function makeStub() { var TCF_LOCATOR_NAME = '__tcfapiLocator'; var queue = []; var win = window; var cmpFrame; function addFrame() { var doc = win.document; var otherCMP = !!(win.frames[TCF_LOCATOR_NAME]); if (!otherCMP) { if (doc.body) { var iframe = doc.createElement('iframe'); iframe.style.cssText = 'display:none'; iframe.name = TCF_LOCATOR_NAME; doc.body.appendChild(iframe); } else { setTimeout(addFrame, 5); } } return !otherCMP; } function tcfAPIHandler() { var gdprApplies; var args = arguments; if (!args.length) { return queue; } else if (args[0] === 'setGdprApplies') { if ( args.length > 3 && args[2] === 2 && typeof args[3] === 'boolean' ) { gdprApplies = args[3]; if (typeof args[2] === 'function') { args[2]('set', true); } } } else if (args[0] === 'ping') { var retr = { gdprApplies: gdprApplies, cmpLoaded: false, cmpStatus: 'stub' }; if (typeof args[2] === 'function') { args[2](retr); } } else { queue.push(args); } } function postMessageEventHandler(event) { var msgIsString = typeof event.data === 'string'; var json = {}; try { if (msgIsString) { json = JSON.parse(event.data); } else { json = event.data; } } catch (ignore) {} var payload = json.__tcfapiCall; if (payload) { window.__tcfapi( payload.command, payload.version, function(retValue, success) { var returnMsg = { __tcfapiReturn: { returnValue: retValue, success: success, callId: payload.callId } }; if (msgIsString) { returnMsg = JSON.stringify(returnMsg); } event.source.postMessage(returnMsg, '*'); }, payload.parameter ); } } while (win) { try { if (win.frames[TCF_LOCATOR_NAME]) { cmpFrame = win; break; } } catch (ignore) {} if (win === window.top) { break; } win = win.parent; } if (!cmpFrame) { addFrame(); win.__tcfapi = tcfAPIHandler; win.addEventListener('message', postMessageEventHandler, false); } }; makeStub(); var uspStubFunction = function() { var arg = arguments; if (typeof window.__uspapi !== uspStubFunction) { setTimeout(function() { if (typeof window.__uspapi !== 'undefined') { window.__uspapi.apply(window.__uspapi, arg); } }, 500); } }; var checkIfUspIsReady = function() { uspTries++; if (window.__uspapi === uspStubFunction && uspTries < uspTriesLimit) { console.warn('USP is not accessible'); } else { clearInterval(uspInterval); } }; if (typeof window.__uspapi === 'undefined') { window.__uspapi = uspStubFunction; var uspInterval = setInterval(checkIfUspIsReady, 6000); }\n",
       "})();</script>--><!-- End Quantcast Choice. Consent Manager Tag v2.0 (for TCF 2.0) --><script> (function(i,s,o,g,r,a,m){i['GoogleAnalyticsObject']=r;i[r]=i[r]||function(){ (i[r].q=i[r].q||[]).push(arguments)},i[r].l=1*new Date();a=s.createElement(o), m=s.getElementsByTagName(o)[0];a.async=1;a.src=g;m.parentNode.insertBefore(a,m) })(window,document,'script','//www.google-analytics.com/analytics.js','ga'); ga('create', 'UA-1438574-2', 'auto'); ga('send', 'pageview');</script><!-- GA wm old (info) --><!-- Global site tag (gtag.js) - Google Analytics --><script async=\"\" src=\"https://www.googletagmanager.com/gtag/js?id=UA-1438574-30\"></script><script> window.dataLayer = window.dataLayer || []; function gtag(){dataLayer.push(arguments);} gtag('js', new Date()); gtag('config', 'UA-1438574-30');</script><!-- GDPR consent --><link href=\"//cdnjs.cloudflare.com/ajax/libs/cookieconsent2/3.1.0/cookieconsent.min.css\" rel=\"stylesheet\" type=\"text/css\"><script src=\"//cdnjs.cloudflare.com/ajax/libs/cookieconsent2/3.1.0/cookieconsent.min.js\"></script><script>window.addEventListener(\"load\", function(){\n",
       "window.cookieconsent.initialise({ \"palette\": { \"popup\": { \"background\": \"#efefef\", \"text\": \"#404040\" }, \"button\": { \"background\": \"#8ec760\", \"text\": \"#ffffff\" } }, \"theme\": \"classic\", \"content\": { \"href\": \"http://www.worldometers.info/policy/\" }\n",
       "})});</script><style type=\"text/css\"> .style1 { color: #666666 }</style><div class=\"navbar navbar-default\"> <div class=\"container\"> <div class=\"navbar-header\"> <div class=\"logo\"><a class=\"navbar-brand\" href=\"/\"><img border=\"0\" src=\"/img/worldometers-logo.gif\" title=\"Worldometer\"/></a></div> <button class=\"navbar-toggle\" data-target=\"#navbar-main\" data-toggle=\"collapse\" type=\"button\"> <span class=\"icon-bar\"></span> <span class=\"icon-bar\"></span> <span class=\"icon-bar\"></span> </button> </div> <div class=\"navbar-collapse collapse\" id=\"navbar-main\"> <ul class=\"nav navbar-nav\"> <li><a href=\"/coronavirus/\">Coronavirus</a></li> <li><a href=\"/population/\">Population</a></li> </ul> </div> </div></div><!-- MAIN --><div class=\"container\"><!-- TOP AD --><div class=\"row\"><div style=\"text-align:left; margin-bottom:10px\"><script async=\"\" src=\"https://pagead2.googlesyndication.com/pagead/js/adsbygoogle.js\"></script><!-- wm_top970 --><ins class=\"adsbygoogle\" data-ad-client=\"ca-pub-3701697624350410\" data-ad-slot=\"3287840995\" style=\"display:inline-block;width:970px;height:90px\"></ins><script> (adsbygoogle = window.adsbygoogle || []).push({});</script></div></div><!-- TOP AD --><!-- MAIN --><!-- CENTER --><div class=\"row\"><div class=\"col-md-12\"><!-- *** CONTENT A *** --><div class=\"content-inner\"><ul class=\"breadcrumb\"> <li><a href=\"/\">W</a></li><li><a href=\"/population/\">Population</a></li> <li><a href=\"/population/world/\">World</a></li> <li class=\"active\">Population by Region</li></ul><div class=\"row spacer-bottom\"><div class=\"col-md-12\"> <h1>Regions in the world by population (2023)</h1><p>Click on each region to view current estimates (live population clock), historical data, list of subregions and countries within the region, and projected figures. Below you will also find what the population for each region was in 1950 and what it will be (as estimated) in 2050. </p></div></div><div class=\"table-responsive\"> <table class=\"table table-hover table-condensed\"> <thead> <tr> <th>#</th> <th>Region</th> <th style=\"text-align:center\">Population<br/> (2020)</th> <th style=\"text-align:center\">Yearly<br/> Change</th> <th style=\"text-align:center\">Net<br/> Change</th> <th style=\"text-align:center\">Density<br/> (P/Km²)</th> <th style=\"text-align:center\">Area<br/> (Km²)</th> <th style=\"text-align:center\">Migrants<br/> (net)</th> <th style=\"text-align:center\">Fert.<br/> Rate</th> <th style=\"text-align:center\">Med.<br/> Age</th> <th style=\"text-align:center\">Urban<br/> Pop %</th> <th style=\"text-align:center\">World<br/> Share</th> </tr> </thead> <tbody> <tr> <td>1</td> <td style=\"font-weight: bold; font-size:15px\"><a href=\"/population/asia/\">Asia</a></td> <td style=\"font-weight: bold; text-align:right\">4,641,054,775</td> <td style=\"text-align:right\">0.86 %</td> <td style=\"text-align:right\">39,683,577</td><td style=\"text-align:right\">150</td> <td style=\"text-align:right\">31,033,131</td> <td style=\"text-align:right\">-1,729,112</td> <td style=\"text-align:right\">2.151942002</td> <td style=\"text-align:right\">32</td> <td style=\"text-align:right\">0 %</td> <td style=\"text-align:right\">59.5 %</td> </tr> <tr> <td>2</td> <td style=\"font-weight: bold; font-size:15px\"><a href=\"/population/africa/\">Africa</a></td> <td style=\"font-weight: bold; text-align:right\">1,340,598,147</td> <td style=\"text-align:right\">2.49 %</td> <td style=\"text-align:right\">32,533,952</td><td style=\"text-align:right\">45</td> <td style=\"text-align:right\">29,648,481</td> <td style=\"text-align:right\">-463,024</td> <td style=\"text-align:right\">4.438374895</td> <td style=\"text-align:right\">20</td> <td style=\"text-align:right\">0 %</td> <td style=\"text-align:right\">17.2 %</td> </tr> <tr> <td>3</td> <td style=\"font-weight: bold; font-size:15px\"><a href=\"/population/europe/\">Europe</a></td> <td style=\"font-weight: bold; text-align:right\">747,636,026</td> <td style=\"text-align:right\">0.06 %</td> <td style=\"text-align:right\">453,275</td><td style=\"text-align:right\">34</td> <td style=\"text-align:right\">22,134,900</td> <td style=\"text-align:right\">1,361,011</td> <td style=\"text-align:right\">1.609646027</td> <td style=\"text-align:right\">43</td> <td style=\"text-align:right\">0 %</td> <td style=\"text-align:right\">9.6 %</td> </tr> <tr> <td>4</td> <td style=\"font-weight: bold; font-size:15px\"><a href=\"/population/latin-america-and-the-caribbean/\">Latin America and the Caribbean</a></td> <td style=\"font-weight: bold; text-align:right\">653,962,331</td> <td style=\"text-align:right\">0.9 %</td> <td style=\"text-align:right\">5,841,374</td><td style=\"text-align:right\">32</td> <td style=\"text-align:right\">20,139,378</td> <td style=\"text-align:right\">-521,499</td> <td style=\"text-align:right\">2.044660431</td> <td style=\"text-align:right\">31</td> <td style=\"text-align:right\">0 %</td> <td style=\"text-align:right\">8.4 %</td> </tr> <tr> <td>5</td> <td style=\"font-weight: bold; font-size:15px\"><a href=\"/population/northern-america/\">Northern America</a></td> <td style=\"font-weight: bold; text-align:right\">368,869,647</td> <td style=\"text-align:right\">0.62 %</td> <td style=\"text-align:right\">2,268,683</td><td style=\"text-align:right\">20</td> <td style=\"text-align:right\">18,651,660</td> <td style=\"text-align:right\">1,196,400</td> <td style=\"text-align:right\">1.75268862</td> <td style=\"text-align:right\">39</td> <td style=\"text-align:right\">0 %</td> <td style=\"text-align:right\">4.7 %</td> </tr> <tr> <td>6</td> <td style=\"font-weight: bold; font-size:15px\"><a href=\"/population/oceania/\">Oceania</a></td> <td style=\"font-weight: bold; text-align:right\">42,677,813</td> <td style=\"text-align:right\">1.31 %</td> <td style=\"text-align:right\">549,778</td><td style=\"text-align:right\">5</td> <td style=\"text-align:right\">8,486,460</td> <td style=\"text-align:right\">156,226</td> <td style=\"text-align:right\">2.357006916</td> <td style=\"text-align:right\">33</td> <td style=\"text-align:right\">0 %</td> <td style=\"text-align:right\">0.5 %</td> </tr> </tbody> </table></div> <!-- Tag ID: worldometers_728x90_970x90_BTF --><div align=\"center\" id=\"worldometers_728x90_970x90_BTF\"><script data-cfasync=\"false\" type=\"text/javascript\"> freestar.config.enabled_slots.push({ placementName: \"worldometers_728x90_970x90_BTF\", slotId: \"worldometers_728x90_970x90_BTF\" });</script></div><div class=\"container\"><div class=\"col-md-6\"><h2>World Population by Region in 1950</h2><div class=\"table-responsive\"> <table class=\"table table-hover table-condensed\"><thead> <tr> <th width=\"17\">#</th><th width=\"48\">Region</th><th style=\"text-align:center\" width=\"81\">Population<br/>(1950)</th><th style=\"text-align:center\" width=\"58\">World<br/>Share</th> </tr></thead><tbody> <tr> <td>1</td> <td style=\"font-weight: bold; font-size:15px\"><a href=\"/population/asia/\">Asia</a></td> <td style=\"font-weight: bold; text-align:right\">1,404,909,021</td> <td style=\"text-align:right\">55.4 %</td> </tr> <tr> <td>2</td> <td style=\"font-weight: bold; font-size:15px\"><a href=\"/population/europe/\">Europe</a></td> <td style=\"font-weight: bold; text-align:right\">549,328,883</td> <td style=\"text-align:right\">21.7 %</td> </tr> <tr> <td>3</td> <td style=\"font-weight: bold; font-size:15px\"><a href=\"/population/africa/\">Africa</a></td> <td style=\"font-weight: bold; text-align:right\">227,794,136</td> <td style=\"text-align:right\">9 %</td> </tr> <tr> <td>4</td> <td style=\"font-weight: bold; font-size:15px\"><a href=\"/population/northern-america/\">Northern America</a></td> <td style=\"font-weight: bold; text-align:right\">172,602,624</td> <td style=\"text-align:right\">6.8 %</td> </tr> <tr> <td>5</td> <td style=\"font-weight: bold; font-size:15px\"><a href=\"/population/latin-america-and-the-caribbean/\">Latin America and the Caribbean</a></td> <td style=\"font-weight: bold; text-align:right\">168,820,620</td> <td style=\"text-align:right\">6.7 %</td> </tr> <tr> <td>6</td> <td style=\"font-weight: bold; font-size:15px\"><a href=\"/population/oceania/\">Oceania</a></td> <td style=\"font-weight: bold; text-align:right\">12,975,865</td> <td style=\"text-align:right\">0.5 %</td> </tr> </tbody> </table></div> </div><div class=\"col-md-6\"><h2>World Population by Region in 2050</h2><div class=\"table-responsive\"> <table class=\"table table-hover table-condensed\"><thead> <tr> <th width=\"17\">#</th><th width=\"48\">Region</th><th style=\"text-align:center\" width=\"76\">Population<br/>(2050)</th><th style=\"text-align:center\" width=\"55\">World<br/>Share</th> </tr></thead><tbody> <tr> <td>1</td> <td style=\"font-weight: bold; font-size:15px\"><a href=\"/population/asia/\">Asia</a></td> <td style=\"font-weight: bold; text-align:right\">5,290,263,118</td> <td style=\"text-align:right\">54.3 %</td> </tr> <tr> <td>2</td> <td style=\"font-weight: bold; font-size:15px\"><a href=\"/population/africa/\">Africa</a></td> <td style=\"font-weight: bold; text-align:right\">2,489,275,458</td> <td style=\"text-align:right\">25.6 %</td> </tr> <tr> <td>3</td> <td style=\"font-weight: bold; font-size:15px\"><a href=\"/population/latin-america-and-the-caribbean/\">Latin America and the Caribbean</a></td> <td style=\"font-weight: bold; text-align:right\">762,432,366</td> <td style=\"text-align:right\">7.8 %</td> </tr> <tr> <td>4</td> <td style=\"font-weight: bold; font-size:15px\"><a href=\"/population/europe/\">Europe</a></td> <td style=\"font-weight: bold; text-align:right\">710,486,313</td> <td style=\"text-align:right\">7.3 %</td> </tr> <tr> <td>5</td> <td style=\"font-weight: bold; font-size:15px\"><a href=\"/population/northern-america/\">Northern America</a></td> <td style=\"font-weight: bold; text-align:right\">425,200,368</td> <td style=\"text-align:right\">4.4 %</td> </tr> <tr> <td>6</td> <td style=\"font-weight: bold; font-size:15px\"><a href=\"/population/oceania/\">Oceania</a></td> <td style=\"font-weight: bold; text-align:right\">57,376,367</td> <td style=\"text-align:right\">0.6 %</td> </tr> </tbody> </table></div> </div></div></div><!-- *** CONTENT A *** --></div></div><script async=\"\" src=\"https://pagead2.googlesyndication.com/pagead/js/adsbygoogle.js\"></script><!-- wm_bottom_1_square_resp --><ins class=\"adsbygoogle\" data-ad-client=\"ca-pub-3701697624350410\" data-ad-format=\"auto\" data-ad-slot=\"6995709761\" data-full-width-responsive=\"true\" style=\"display:block\"></ins><script> (adsbygoogle = window.adsbygoogle || []).push({});</script><div style=\"margin-top:40px\"></div><script async=\"\" src=\"https://pagead2.googlesyndication.com/pagead/js/adsbygoogle.js\"></script><!-- wm_bottom2_horiz_resp --><ins class=\"adsbygoogle\" data-ad-client=\"ca-pub-3701697624350410\" data-ad-format=\"auto\" data-ad-slot=\"1743383089\" data-full-width-responsive=\"true\" style=\"display:block\"></ins><script> (adsbygoogle = window.adsbygoogle || []).push({});</script></div> <!--=== Closed TOP Content Container ===--> <footer><div class=\"footerlinks\"><div style=\"margin-bottom:20px\"><a href=\"/\"><img border=\"0\" class=\"img-footer\" src=\"/img/worldometers-logo-footer.png\"/></a></div><a href=\"/about/\">about</a> | <a href=\"/faq/\">faq</a> | <a href=\"/languages/\">languages</a> | <a href=\"/contact/\">contact</a></div><ul class=\"list-inline text-center socialbuttons\"><li><a data-placement=\"bottom\" data-toggle=\"tooltip\" href=\"/newsletter-subscribe/\" title=\"Newsletter\"><i class=\"fa fa-bullhorn fa-round\"></i></a></li> <li><a href=\"https://twitter.com/Worldometers\"><i class=\"fa fa-twitter fa-round\"></i></a></li> <li><a href=\"https://www.facebook.com/Worldometers.info\"><i class=\"fa fa-facebook fa-round\"></i></a></li></ul> <div class=\"copy\">© Copyright Worldometers.info - All rights reserved - <a href=\"/disclaimer/\">Disclaimer &amp; Privacy Policy</a></div></footer><!-- ADDTHIS--><script async=\"async\" src=\"//s7.addthis.com/js/300/addthis_widget.js#pubid=ra-54615fa823b2af68\" type=\"text/javascript\"></script> <!-- PAGEFAIR --><script type=\"text/javascript\"> (function() { function async_load(script_url){ var protocol = ('https:' == document.location.protocol ? 'https://' : 'http://'); var s = document.createElement('script'); s.src = protocol + script_url; var x = document.getElementsByTagName('script')[0]; x.parentNode.insertBefore(s, x); } bm_website_code = '7849CD9451D34931'; jQuery(document).ready(function(){async_load('asset.pagefair.com/measure.min.js')}); jQuery(document).ready(function(){async_load('asset.pagefair.net/ads.min.js')}); })();</script> <!-- PAGEFAIR --> <!-- Quantcast Tag --><script type=\"text/javascript\">var _qevents = _qevents || [];\n",
       "(function() {\n",
       "var elem = document.createElement('script');\n",
       "elem.src = (document.location.protocol == \"https:\" ? \"https://secure\" : \"http://edge\") + \".quantserve.com/quant.js\";\n",
       "elem.async = true;\n",
       "elem.type = \"text/javascript\";\n",
       "var scpt = document.getElementsByTagName('script')[0];\n",
       "scpt.parentNode.insertBefore(elem, scpt);\n",
       "})();\n",
       "_qevents.push({\n",
       "qacct:\"p-Pd9JxUkvV0m7q\"\n",
       "});</script><noscript><div style=\"display:none;\"><img alt=\"Quantcast\" border=\"0\" height=\"1\" src=\"//pixel.quantserve.com/pixel/p-Pd9JxUkvV0m7q.gif\" width=\"1\"/></div></noscript><!-- End Quantcast tag --></link></body></html>"
      ]
     },
     "execution_count": 7,
     "metadata": {},
     "output_type": "execute_result"
    }
   ],
   "source": [
    "beautiful_page_content"
   ]
  },
  {
   "cell_type": "code",
   "execution_count": 12,
   "id": "7524bd9a",
   "metadata": {},
   "outputs": [],
   "source": [
    "tables_list = beautiful_page_content.find_all('table')"
   ]
  },
  {
   "cell_type": "code",
   "execution_count": 14,
   "id": "36267789",
   "metadata": {},
   "outputs": [],
   "source": [
    "population_table = tables_list[0]"
   ]
  },
  {
   "cell_type": "code",
   "execution_count": 15,
   "id": "af51d38a",
   "metadata": {},
   "outputs": [],
   "source": [
    "table_body = population_table.find(\"tbody\")"
   ]
  },
  {
   "cell_type": "code",
   "execution_count": 16,
   "id": "a170eee0",
   "metadata": {},
   "outputs": [
    {
     "data": {
      "text/plain": [
       "<tbody> <tr> <td>1</td> <td style=\"font-weight: bold; font-size:15px\"><a href=\"/population/asia/\">Asia</a></td> <td style=\"font-weight: bold; text-align:right\">4,641,054,775</td> <td style=\"text-align:right\">0.86 %</td> <td style=\"text-align:right\">39,683,577</td><td style=\"text-align:right\">150</td> <td style=\"text-align:right\">31,033,131</td> <td style=\"text-align:right\">-1,729,112</td> <td style=\"text-align:right\">2.151942002</td> <td style=\"text-align:right\">32</td> <td style=\"text-align:right\">0 %</td> <td style=\"text-align:right\">59.5 %</td> </tr> <tr> <td>2</td> <td style=\"font-weight: bold; font-size:15px\"><a href=\"/population/africa/\">Africa</a></td> <td style=\"font-weight: bold; text-align:right\">1,340,598,147</td> <td style=\"text-align:right\">2.49 %</td> <td style=\"text-align:right\">32,533,952</td><td style=\"text-align:right\">45</td> <td style=\"text-align:right\">29,648,481</td> <td style=\"text-align:right\">-463,024</td> <td style=\"text-align:right\">4.438374895</td> <td style=\"text-align:right\">20</td> <td style=\"text-align:right\">0 %</td> <td style=\"text-align:right\">17.2 %</td> </tr> <tr> <td>3</td> <td style=\"font-weight: bold; font-size:15px\"><a href=\"/population/europe/\">Europe</a></td> <td style=\"font-weight: bold; text-align:right\">747,636,026</td> <td style=\"text-align:right\">0.06 %</td> <td style=\"text-align:right\">453,275</td><td style=\"text-align:right\">34</td> <td style=\"text-align:right\">22,134,900</td> <td style=\"text-align:right\">1,361,011</td> <td style=\"text-align:right\">1.609646027</td> <td style=\"text-align:right\">43</td> <td style=\"text-align:right\">0 %</td> <td style=\"text-align:right\">9.6 %</td> </tr> <tr> <td>4</td> <td style=\"font-weight: bold; font-size:15px\"><a href=\"/population/latin-america-and-the-caribbean/\">Latin America and the Caribbean</a></td> <td style=\"font-weight: bold; text-align:right\">653,962,331</td> <td style=\"text-align:right\">0.9 %</td> <td style=\"text-align:right\">5,841,374</td><td style=\"text-align:right\">32</td> <td style=\"text-align:right\">20,139,378</td> <td style=\"text-align:right\">-521,499</td> <td style=\"text-align:right\">2.044660431</td> <td style=\"text-align:right\">31</td> <td style=\"text-align:right\">0 %</td> <td style=\"text-align:right\">8.4 %</td> </tr> <tr> <td>5</td> <td style=\"font-weight: bold; font-size:15px\"><a href=\"/population/northern-america/\">Northern America</a></td> <td style=\"font-weight: bold; text-align:right\">368,869,647</td> <td style=\"text-align:right\">0.62 %</td> <td style=\"text-align:right\">2,268,683</td><td style=\"text-align:right\">20</td> <td style=\"text-align:right\">18,651,660</td> <td style=\"text-align:right\">1,196,400</td> <td style=\"text-align:right\">1.75268862</td> <td style=\"text-align:right\">39</td> <td style=\"text-align:right\">0 %</td> <td style=\"text-align:right\">4.7 %</td> </tr> <tr> <td>6</td> <td style=\"font-weight: bold; font-size:15px\"><a href=\"/population/oceania/\">Oceania</a></td> <td style=\"font-weight: bold; text-align:right\">42,677,813</td> <td style=\"text-align:right\">1.31 %</td> <td style=\"text-align:right\">549,778</td><td style=\"text-align:right\">5</td> <td style=\"text-align:right\">8,486,460</td> <td style=\"text-align:right\">156,226</td> <td style=\"text-align:right\">2.357006916</td> <td style=\"text-align:right\">33</td> <td style=\"text-align:right\">0 %</td> <td style=\"text-align:right\">0.5 %</td> </tr> </tbody>"
      ]
     },
     "execution_count": 16,
     "metadata": {},
     "output_type": "execute_result"
    }
   ],
   "source": [
    "table_body"
   ]
  },
  {
   "cell_type": "code",
   "execution_count": 17,
   "id": "6681ac69",
   "metadata": {},
   "outputs": [],
   "source": [
    "table_row = table_body.find_all(\"tr\")"
   ]
  },
  {
   "cell_type": "code",
   "execution_count": 18,
   "id": "e768efd3",
   "metadata": {},
   "outputs": [
    {
     "data": {
      "text/plain": [
       "[<tr> <td>1</td> <td style=\"font-weight: bold; font-size:15px\"><a href=\"/population/asia/\">Asia</a></td> <td style=\"font-weight: bold; text-align:right\">4,641,054,775</td> <td style=\"text-align:right\">0.86 %</td> <td style=\"text-align:right\">39,683,577</td><td style=\"text-align:right\">150</td> <td style=\"text-align:right\">31,033,131</td> <td style=\"text-align:right\">-1,729,112</td> <td style=\"text-align:right\">2.151942002</td> <td style=\"text-align:right\">32</td> <td style=\"text-align:right\">0 %</td> <td style=\"text-align:right\">59.5 %</td> </tr>,\n",
       " <tr> <td>2</td> <td style=\"font-weight: bold; font-size:15px\"><a href=\"/population/africa/\">Africa</a></td> <td style=\"font-weight: bold; text-align:right\">1,340,598,147</td> <td style=\"text-align:right\">2.49 %</td> <td style=\"text-align:right\">32,533,952</td><td style=\"text-align:right\">45</td> <td style=\"text-align:right\">29,648,481</td> <td style=\"text-align:right\">-463,024</td> <td style=\"text-align:right\">4.438374895</td> <td style=\"text-align:right\">20</td> <td style=\"text-align:right\">0 %</td> <td style=\"text-align:right\">17.2 %</td> </tr>,\n",
       " <tr> <td>3</td> <td style=\"font-weight: bold; font-size:15px\"><a href=\"/population/europe/\">Europe</a></td> <td style=\"font-weight: bold; text-align:right\">747,636,026</td> <td style=\"text-align:right\">0.06 %</td> <td style=\"text-align:right\">453,275</td><td style=\"text-align:right\">34</td> <td style=\"text-align:right\">22,134,900</td> <td style=\"text-align:right\">1,361,011</td> <td style=\"text-align:right\">1.609646027</td> <td style=\"text-align:right\">43</td> <td style=\"text-align:right\">0 %</td> <td style=\"text-align:right\">9.6 %</td> </tr>,\n",
       " <tr> <td>4</td> <td style=\"font-weight: bold; font-size:15px\"><a href=\"/population/latin-america-and-the-caribbean/\">Latin America and the Caribbean</a></td> <td style=\"font-weight: bold; text-align:right\">653,962,331</td> <td style=\"text-align:right\">0.9 %</td> <td style=\"text-align:right\">5,841,374</td><td style=\"text-align:right\">32</td> <td style=\"text-align:right\">20,139,378</td> <td style=\"text-align:right\">-521,499</td> <td style=\"text-align:right\">2.044660431</td> <td style=\"text-align:right\">31</td> <td style=\"text-align:right\">0 %</td> <td style=\"text-align:right\">8.4 %</td> </tr>,\n",
       " <tr> <td>5</td> <td style=\"font-weight: bold; font-size:15px\"><a href=\"/population/northern-america/\">Northern America</a></td> <td style=\"font-weight: bold; text-align:right\">368,869,647</td> <td style=\"text-align:right\">0.62 %</td> <td style=\"text-align:right\">2,268,683</td><td style=\"text-align:right\">20</td> <td style=\"text-align:right\">18,651,660</td> <td style=\"text-align:right\">1,196,400</td> <td style=\"text-align:right\">1.75268862</td> <td style=\"text-align:right\">39</td> <td style=\"text-align:right\">0 %</td> <td style=\"text-align:right\">4.7 %</td> </tr>,\n",
       " <tr> <td>6</td> <td style=\"font-weight: bold; font-size:15px\"><a href=\"/population/oceania/\">Oceania</a></td> <td style=\"font-weight: bold; text-align:right\">42,677,813</td> <td style=\"text-align:right\">1.31 %</td> <td style=\"text-align:right\">549,778</td><td style=\"text-align:right\">5</td> <td style=\"text-align:right\">8,486,460</td> <td style=\"text-align:right\">156,226</td> <td style=\"text-align:right\">2.357006916</td> <td style=\"text-align:right\">33</td> <td style=\"text-align:right\">0 %</td> <td style=\"text-align:right\">0.5 %</td> </tr>]"
      ]
     },
     "execution_count": 18,
     "metadata": {},
     "output_type": "execute_result"
    }
   ],
   "source": [
    "table_row"
   ]
  },
  {
   "cell_type": "code",
   "execution_count": 30,
   "id": "9fc5fc28",
   "metadata": {},
   "outputs": [],
   "source": [
    "all_data = []\n",
    "for i in range(0, len(table_row)):\n",
    "    regional_data = []\n",
    "    tr = table_row[i]\n",
    "    td = tr.find_all('td')\n",
    "    for dp in td:\n",
    "        regional_data.append(dp.text)\n",
    "    all_data.append(regional_data)\n",
    "    "
   ]
  },
  {
   "cell_type": "code",
   "execution_count": 49,
   "id": "06fd3080",
   "metadata": {},
   "outputs": [],
   "source": [
    "column_names = [\"Region\",\n",
    "                \"Population (2020)\", \n",
    "           \"Yearly Change\",\n",
    "           \"Net Change\",\n",
    "           \"Density (P/Km²)\",\n",
    "           \"Area (Km²)\",\n",
    "           \"Migrants (net)\",\n",
    "           \"Fert. Rate\",\n",
    "           \"Med. Age\",\n",
    "           \"Urban Pop %\",\n",
    "           \"World Share\" ]"
   ]
  },
  {
   "cell_type": "code",
   "execution_count": 50,
   "id": "ffffde21",
   "metadata": {},
   "outputs": [],
   "source": [
    "filtered_data = list(map(lambda x: x[1:], all_data))"
   ]
  },
  {
   "cell_type": "code",
   "execution_count": 51,
   "id": "6d33314c",
   "metadata": {},
   "outputs": [],
   "source": [
    "import pandas as pd"
   ]
  },
  {
   "cell_type": "code",
   "execution_count": 52,
   "id": "db3710de",
   "metadata": {},
   "outputs": [],
   "source": [
    "df = pd.DataFrame(filtered_data, columns = column_names)"
   ]
  },
  {
   "cell_type": "code",
   "execution_count": 53,
   "id": "9c8d510a",
   "metadata": {},
   "outputs": [
    {
     "data": {
      "text/html": [
       "<div>\n",
       "<style scoped>\n",
       "    .dataframe tbody tr th:only-of-type {\n",
       "        vertical-align: middle;\n",
       "    }\n",
       "\n",
       "    .dataframe tbody tr th {\n",
       "        vertical-align: top;\n",
       "    }\n",
       "\n",
       "    .dataframe thead th {\n",
       "        text-align: right;\n",
       "    }\n",
       "</style>\n",
       "<table border=\"1\" class=\"dataframe\">\n",
       "  <thead>\n",
       "    <tr style=\"text-align: right;\">\n",
       "      <th></th>\n",
       "      <th>Region</th>\n",
       "      <th>Population (2020)</th>\n",
       "      <th>Yearly Change</th>\n",
       "      <th>Net Change</th>\n",
       "      <th>Density (P/Km²)</th>\n",
       "      <th>Area (Km²)</th>\n",
       "      <th>Migrants (net)</th>\n",
       "      <th>Fert. Rate</th>\n",
       "      <th>Med. Age</th>\n",
       "      <th>Urban Pop %</th>\n",
       "      <th>World Share</th>\n",
       "    </tr>\n",
       "  </thead>\n",
       "  <tbody>\n",
       "    <tr>\n",
       "      <th>0</th>\n",
       "      <td>Asia</td>\n",
       "      <td>4,641,054,775</td>\n",
       "      <td>0.86 %</td>\n",
       "      <td>39,683,577</td>\n",
       "      <td>150</td>\n",
       "      <td>31,033,131</td>\n",
       "      <td>-1,729,112</td>\n",
       "      <td>2.151942002</td>\n",
       "      <td>32</td>\n",
       "      <td>0 %</td>\n",
       "      <td>59.5 %</td>\n",
       "    </tr>\n",
       "    <tr>\n",
       "      <th>1</th>\n",
       "      <td>Africa</td>\n",
       "      <td>1,340,598,147</td>\n",
       "      <td>2.49 %</td>\n",
       "      <td>32,533,952</td>\n",
       "      <td>45</td>\n",
       "      <td>29,648,481</td>\n",
       "      <td>-463,024</td>\n",
       "      <td>4.438374895</td>\n",
       "      <td>20</td>\n",
       "      <td>0 %</td>\n",
       "      <td>17.2 %</td>\n",
       "    </tr>\n",
       "    <tr>\n",
       "      <th>2</th>\n",
       "      <td>Europe</td>\n",
       "      <td>747,636,026</td>\n",
       "      <td>0.06 %</td>\n",
       "      <td>453,275</td>\n",
       "      <td>34</td>\n",
       "      <td>22,134,900</td>\n",
       "      <td>1,361,011</td>\n",
       "      <td>1.609646027</td>\n",
       "      <td>43</td>\n",
       "      <td>0 %</td>\n",
       "      <td>9.6 %</td>\n",
       "    </tr>\n",
       "    <tr>\n",
       "      <th>3</th>\n",
       "      <td>Latin America and the Caribbean</td>\n",
       "      <td>653,962,331</td>\n",
       "      <td>0.9 %</td>\n",
       "      <td>5,841,374</td>\n",
       "      <td>32</td>\n",
       "      <td>20,139,378</td>\n",
       "      <td>-521,499</td>\n",
       "      <td>2.044660431</td>\n",
       "      <td>31</td>\n",
       "      <td>0 %</td>\n",
       "      <td>8.4 %</td>\n",
       "    </tr>\n",
       "    <tr>\n",
       "      <th>4</th>\n",
       "      <td>Northern America</td>\n",
       "      <td>368,869,647</td>\n",
       "      <td>0.62 %</td>\n",
       "      <td>2,268,683</td>\n",
       "      <td>20</td>\n",
       "      <td>18,651,660</td>\n",
       "      <td>1,196,400</td>\n",
       "      <td>1.75268862</td>\n",
       "      <td>39</td>\n",
       "      <td>0 %</td>\n",
       "      <td>4.7 %</td>\n",
       "    </tr>\n",
       "    <tr>\n",
       "      <th>5</th>\n",
       "      <td>Oceania</td>\n",
       "      <td>42,677,813</td>\n",
       "      <td>1.31 %</td>\n",
       "      <td>549,778</td>\n",
       "      <td>5</td>\n",
       "      <td>8,486,460</td>\n",
       "      <td>156,226</td>\n",
       "      <td>2.357006916</td>\n",
       "      <td>33</td>\n",
       "      <td>0 %</td>\n",
       "      <td>0.5 %</td>\n",
       "    </tr>\n",
       "  </tbody>\n",
       "</table>\n",
       "</div>"
      ],
      "text/plain": [
       "                            Region Population (2020) Yearly Change  \\\n",
       "0                             Asia     4,641,054,775        0.86 %   \n",
       "1                           Africa     1,340,598,147        2.49 %   \n",
       "2                           Europe       747,636,026        0.06 %   \n",
       "3  Latin America and the Caribbean       653,962,331         0.9 %   \n",
       "4                 Northern America       368,869,647        0.62 %   \n",
       "5                          Oceania        42,677,813        1.31 %   \n",
       "\n",
       "   Net Change Density (P/Km²)  Area (Km²) Migrants (net)   Fert. Rate  \\\n",
       "0  39,683,577             150  31,033,131     -1,729,112  2.151942002   \n",
       "1  32,533,952              45  29,648,481       -463,024  4.438374895   \n",
       "2     453,275              34  22,134,900      1,361,011  1.609646027   \n",
       "3   5,841,374              32  20,139,378       -521,499  2.044660431   \n",
       "4   2,268,683              20  18,651,660      1,196,400   1.75268862   \n",
       "5     549,778               5   8,486,460        156,226  2.357006916   \n",
       "\n",
       "  Med. Age Urban Pop % World Share  \n",
       "0       32         0 %      59.5 %  \n",
       "1       20         0 %      17.2 %  \n",
       "2       43         0 %       9.6 %  \n",
       "3       31         0 %       8.4 %  \n",
       "4       39         0 %       4.7 %  \n",
       "5       33         0 %       0.5 %  "
      ]
     },
     "execution_count": 53,
     "metadata": {},
     "output_type": "execute_result"
    }
   ],
   "source": [
    "df"
   ]
  },
  {
   "cell_type": "code",
   "execution_count": null,
   "id": "e11cd66a",
   "metadata": {},
   "outputs": [],
   "source": []
  }
 ],
 "metadata": {
  "kernelspec": {
   "display_name": "Python 3 (ipykernel)",
   "language": "python",
   "name": "python3"
  },
  "language_info": {
   "codemirror_mode": {
    "name": "ipython",
    "version": 3
   },
   "file_extension": ".py",
   "mimetype": "text/x-python",
   "name": "python",
   "nbconvert_exporter": "python",
   "pygments_lexer": "ipython3",
   "version": "3.10.9"
  }
 },
 "nbformat": 4,
 "nbformat_minor": 5
}
